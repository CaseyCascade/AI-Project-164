{
 "cells": [
  {
   "cell_type": "markdown",
   "id": "9d35f38f",
   "metadata": {},
   "source": []
  },
  {
   "cell_type": "code",
   "execution_count": null,
   "id": "38dcbaae",
   "metadata": {
    "vscode": {
     "languageId": "plaintext"
    }
   },
   "outputs": [],
   "source": [
    "# Dataset basis\n",
    "from datasets import load_dataset\n",
    "from sklearn.model_selection import train_test_split\n",
    "from sklearn.metrics import accuracy_score\n",
    "import numpy as np\n",
    "\n",
    "# Tools\n",
    "from sklearn.feature_extraction.text import TfidfVectorizer # Tokenizes sentences\n",
    "\n",
    "# Models\n",
    "from sklearn.naive_bayes import MultinomialNB\n",
    "from sklearn.linear_model import LogisticRegression\n",
    "from sklearn.neighbors import KNeighborsClassifier"
   ]
  },
  {
   "cell_type": "markdown",
   "id": "f1c13dbd",
   "metadata": {},
   "source": [
    "We must first fetch the datasets that will be used in the models."
   ]
  },
  {
   "cell_type": "code",
   "execution_count": null,
   "id": "ccc7ed50",
   "metadata": {
    "vscode": {
     "languageId": "plaintext"
    }
   },
   "outputs": [],
   "source": [
    "# 1) Load MNIST\n",
    "print(\"Loading MNIST...\")\n",
    "\n",
    "# 2) Load EMNIST\n",
    "print(\"Loading EMNIST...\")\n",
    "mnist = fetch_openml(\"EMNIST_Balanced\", version=1, as_frame=False)\n",
    "\n",
    "# 3) Load IMDB_Sentiment\n",
    "print(\"Loading IMDB_Sentiment...\")\n",
    "dataset = load_dataset(\"Kwaai/IMDB_Sentiment\", split=\"train\").shuffle(seed=42)"
   ]
  },
  {
   "cell_type": "markdown",
   "id": "faa19682",
   "metadata": {},
   "source": [
    "Prepare The MNIST Dataset"
   ]
  },
  {
   "cell_type": "code",
   "execution_count": null,
   "id": "cbea36eb",
   "metadata": {
    "vscode": {
     "languageId": "plaintext"
    }
   },
   "outputs": [],
   "source": []
  },
  {
   "cell_type": "markdown",
   "id": "94d80c44",
   "metadata": {},
   "source": [
    "Prepare The EMNIST Dataset"
   ]
  },
  {
   "cell_type": "code",
   "execution_count": null,
   "id": "06200218",
   "metadata": {
    "vscode": {
     "languageId": "plaintext"
    }
   },
   "outputs": [],
   "source": [
    "# 1) Normalize EMNIST Balanced\n",
    "X, y = mnist.data, mnist.target.astype(int)\n",
    "\n",
    "# Normalize pixel values to [0, 1]\n",
    "X = X / 255.0\n",
    "\n",
    "# Optional: Apply PCA to reduce dimensionality\n",
    "USE_PCA = False\n",
    "if USE_PCA:\n",
    "    pca = PCA(n_components=100)  # Try 50–150\n",
    "    X = pca.fit_transform(X)\n",
    "\n",
    "# 2) Split into train and test\n",
    "X_train, X_test, y_train, y_test = train_test_split(X, y, test_size=0.2, random_state=123)"
   ]
  },
  {
   "cell_type": "markdown",
   "id": "89b1802a",
   "metadata": {},
   "source": [
    "Prepare The IMDB_Sentiment Dataset"
   ]
  },
  {
   "cell_type": "code",
   "execution_count": null,
   "id": "974a688f",
   "metadata": {
    "vscode": {
     "languageId": "plaintext"
    }
   },
   "outputs": [],
   "source": [
    "# Show a sample text\n",
    "print(dataset[0][\"text\"])\n",
    "\n",
    "# Select a smaller subset for faster training\n",
    "dataset = dataset.select(range(1000))\n",
    "\n",
    "# Extract text and labels\n",
    "texts = dataset[\"text\"]\n",
    "labels = dataset[\"label\"]\n",
    "\n",
    "# TF-IDF Vectorization; Tokenizes\n",
    "vectorizer = TfidfVectorizer(max_features=5000)\n",
    "X = vectorizer.fit_transform(texts)\n",
    "y = np.array(dataset[\"label\"])\n",
    "\n",
    "# Train/test split\n",
    "X_train, X_test, y_train, y_test = train_test_split(X, y, test_size=0.2, random_state=42)"
   ]
  },
  {
   "cell_type": "markdown",
   "id": "85513128",
   "metadata": {},
   "source": [
    "There will be 3 main models we will be using between these 3 differing datasets, those include K Nearest Neighbors, Naive Bayes, and Logistic Regression."
   ]
  },
  {
   "cell_type": "code",
   "execution_count": null,
   "id": "a3a5b262",
   "metadata": {
    "vscode": {
     "languageId": "plaintext"
    }
   },
   "outputs": [],
   "source": [
    "#================# KNN #=================#\n",
    "knn = KNeighborsClassifier(n_neighbors=5)\n",
    "knn.fit(X_train, y_train)\n",
    "y_pred_knn = knn.predict(X_test)\n",
    "accuracy_knn = accuracy_score(y_test, y_pred_knn)\n",
    "print(f\"K Nearest Neighbors' Accuracy: {accuracy_knn:.2f}\")\n",
    "#========================================#"
   ]
  },
  {
   "cell_type": "code",
   "execution_count": null,
   "id": "718c8466",
   "metadata": {
    "vscode": {
     "languageId": "plaintext"
    }
   },
   "outputs": [],
   "source": [
    "#============# Naive Bayes #=============#\n",
    "nb_classifier = MultinomialNB()\n",
    "nb_classifier.fit(X_train, y_train)\n",
    "y_pred_nb = nb_classifier.predict(X_test)\n",
    "accuracy_nb = accuracy_score(y_test, y_pred_nb)\n",
    "print(f\"Naive Bayes' Accuracy: {accuracy_nb:.4f}\")\n",
    "#========================================#"
   ]
  },
  {
   "cell_type": "code",
   "execution_count": null,
   "id": "a56b45e0",
   "metadata": {
    "vscode": {
     "languageId": "plaintext"
    }
   },
   "outputs": [],
   "source": [
    "#=========# Logistic Regression #========#\n",
    "logreg_classifier = LogisticRegression(max_iter=1000)\n",
    "logreg_classifier.fit(X_train, y_train)\n",
    "y_pred_logreg = logreg_classifier.predict(X_test)\n",
    "accuracy_logreg = accuracy_score(y_test, y_pred_logreg)\n",
    "print(f\"Logistic Regression's Accuracy: {accuracy_logreg:.4f}\")\n",
    "#========================================#"
   ]
  }
 ],
 "metadata": {
  "language_info": {
   "name": "python"
  }
 },
 "nbformat": 4,
 "nbformat_minor": 5
}
