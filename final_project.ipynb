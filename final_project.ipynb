{
 "cells": [
  {
   "cell_type": "markdown",
   "id": "9d35f38f",
   "metadata": {},
   "source": []
  },
  {
   "cell_type": "code",
   "execution_count": null,
   "id": "38dcbaae",
   "metadata": {},
   "outputs": [],
   "source": [
    "# Dataset basis\n",
    "from datasets import load_dataset\n",
    "from sklearn.model_selection import train_test_split\n",
    "from sklearn.metrics import accuracy_score\n",
    "from sklearn.datasets import fetch_openml\n",
    "\n",
    "# Tools\n",
    "from sklearn.feature_extraction.text import TfidfVectorizer # Tokenizes sentences\n",
    "import numpy as np\n",
    "\n",
    "# Models\n",
    "from sklearn.naive_bayes import MultinomialNB\n",
    "from sklearn.linear_model import LogisticRegression\n",
    "from sklearn.neighbors import KNeighborsClassifier"
   ]
  },
  {
   "cell_type": "markdown",
   "id": "f1c13dbd",
   "metadata": {},
   "source": [
    "We must first fetch the datasets that will be used in the models."
   ]
  },
  {
   "cell_type": "code",
   "execution_count": 4,
   "id": "ccc7ed50",
   "metadata": {},
   "outputs": [
    {
     "name": "stdout",
     "output_type": "stream",
     "text": [
      "Loading MNIST...\n"
     ]
    },
    {
     "ename": "NameError",
     "evalue": "name 'fetch_openml' is not defined",
     "output_type": "error",
     "traceback": [
      "\u001b[31m---------------------------------------------------------------------------\u001b[39m",
      "\u001b[31mNameError\u001b[39m                                 Traceback (most recent call last)",
      "\u001b[36mCell\u001b[39m\u001b[36m \u001b[39m\u001b[32mIn[4]\u001b[39m\u001b[32m, line 3\u001b[39m\n\u001b[32m      1\u001b[39m \u001b[38;5;66;03m# 1) Load MNIST\u001b[39;00m\n\u001b[32m      2\u001b[39m \u001b[38;5;28mprint\u001b[39m(\u001b[33m\"\u001b[39m\u001b[33mLoading MNIST...\u001b[39m\u001b[33m\"\u001b[39m)\n\u001b[32m----> \u001b[39m\u001b[32m3\u001b[39m mnist = \u001b[43mfetch_openml\u001b[49m(\u001b[33m\"\u001b[39m\u001b[33mmnist_784\u001b[39m\u001b[33m\"\u001b[39m, version=\u001b[32m1\u001b[39m, as_frame=\u001b[38;5;28;01mFalse\u001b[39;00m)\n\u001b[32m      5\u001b[39m \u001b[38;5;66;03m# 2) Load EMNIST\u001b[39;00m\n\u001b[32m      6\u001b[39m \u001b[38;5;28mprint\u001b[39m(\u001b[33m\"\u001b[39m\u001b[33mLoading EMNIST...\u001b[39m\u001b[33m\"\u001b[39m)\n",
      "\u001b[31mNameError\u001b[39m: name 'fetch_openml' is not defined"
     ]
    }
   ],
   "source": [
    "# 1) Load MNIST\n",
    "print(\"Loading MNIST...\")\n",
    "mnist = fetch_openml(\"mnist_784\", version=1, as_frame=False)\n",
    "\n",
    "# 2) Load EMNIST\n",
    "print(\"Loading EMNIST...\")\n",
    "emnist = fetch_openml(\"EMNIST_Balanced\", version=1, as_frame=False)\n",
    "\n",
    "# 3) Load IMDB_Sentiment\n",
    "print(\"Loading IMDB_Sentiment...\")\n",
    "dataset = load_dataset(\"Kwaai/IMDB_Sentiment\", split=\"train\").shuffle(seed=42)"
   ]
  },
  {
   "cell_type": "markdown",
   "id": "faa19682",
   "metadata": {},
   "source": [
    "Prepare The MNIST Dataset"
   ]
  },
  {
   "cell_type": "code",
   "execution_count": null,
   "id": "cbea36eb",
   "metadata": {},
   "outputs": [],
   "source": [
    "# 1) Normalize MNIST Balanced\n",
    "X, y = mnist.data, mnist.target.astype(int)\n",
    "\n",
    "# Normalize pixel values to [0, 1]\n",
    "X = X / 255.0\n",
    "\n",
    "# Optional: Apply PCA to reduce dimensionality\n",
    "USE_PCA = False\n",
    "if USE_PCA:\n",
    "    pca = PCA(n_components=100)  # Try 50–150\n",
    "    X = pca.fit_transform(X)\n",
    "\n",
    "# 2) Split into train and test\n",
    "X_train, X_test, y_train, y_test = train_test_split(X, y, test_size=0.2, random_state=123)"
   ]
  },
  {
   "cell_type": "markdown",
   "id": "94d80c44",
   "metadata": {},
   "source": [
    "Prepare The EMNIST Dataset"
   ]
  },
  {
   "cell_type": "code",
   "execution_count": null,
   "id": "06200218",
   "metadata": {},
   "outputs": [],
   "source": [
    "# 1) Normalize EMNIST Balanced\n",
    "X, y = emnist.data, emnist.target.astype(int)\n",
    "\n",
    "# Normalize pixel values to [0, 1]\n",
    "X = X / 255.0\n",
    "\n",
    "# Optional: Apply PCA to reduce dimensionality\n",
    "USE_PCA = true\n",
    "if USE_PCA:\n",
    "    pca = PCA(n_components=100)  # Try 50–150\n",
    "    X = pca.fit_transform(X)\n",
    "\n",
    "# 2) Split into train and test\n",
    "X_train, X_test, y_train, y_test = train_test_split(X, y, test_size=0.2, random_state=123)"
   ]
  },
  {
   "cell_type": "markdown",
   "id": "89b1802a",
   "metadata": {},
   "source": [
    "Prepare The IMDB_Sentiment Dataset"
   ]
  },
  {
   "cell_type": "code",
   "execution_count": null,
   "id": "974a688f",
   "metadata": {},
   "outputs": [],
   "source": [
    "# Show a sample text\n",
    "print(dataset[0][\"text\"])\n",
    "\n",
    "# Select a smaller subset for faster training\n",
    "dataset = dataset.select(range(1000))\n",
    "\n",
    "# Extract text and labels\n",
    "texts = dataset[\"text\"]\n",
    "labels = dataset[\"label\"]\n",
    "\n",
    "# TF-IDF Vectorization; Tokenizes\n",
    "vectorizer = TfidfVectorizer(max_features=5000)\n",
    "X = vectorizer.fit_transform(texts)\n",
    "y = np.array(dataset[\"label\"])\n",
    "\n",
    "# Train/test split\n",
    "X_train, X_test, y_train, y_test = train_test_split(X, y, test_size=0.2, random_state=42)"
   ]
  },
  {
   "cell_type": "markdown",
   "id": "85513128",
   "metadata": {},
   "source": [
    "There will be 3 main models we will be using between these 3 differing datasets, those include K Nearest Neighbors, Naive Bayes, and Logistic Regression."
   ]
  },
  {
   "cell_type": "code",
   "execution_count": null,
   "id": "a3a5b262",
   "metadata": {},
   "outputs": [],
   "source": [
    "#================# KNN #=================#\n",
    "knn = KNeighborsClassifier(n_neighbors=5)\n",
    "knn.fit(X_train, y_train)\n",
    "y_pred_knn = knn.predict(X_test)\n",
    "accuracy_knn = accuracy_score(y_test, y_pred_knn)\n",
    "print(f\"K Nearest Neighbors' Accuracy: {accuracy_knn:.2f}\")\n",
    "#========================================#"
   ]
  },
  {
   "cell_type": "code",
   "execution_count": null,
   "id": "718c8466",
   "metadata": {},
   "outputs": [],
   "source": [
    "#============# Naive Bayes #=============#\n",
    "nb_classifier = MultinomialNB()\n",
    "nb_classifier.fit(X_train, y_train)\n",
    "y_pred_nb = nb_classifier.predict(X_test)\n",
    "accuracy_nb = accuracy_score(y_test, y_pred_nb)\n",
    "print(f\"Naive Bayes' Accuracy: {accuracy_nb:.4f}\")\n",
    "#========================================#"
   ]
  },
  {
   "cell_type": "code",
   "execution_count": null,
   "id": "a56b45e0",
   "metadata": {},
   "outputs": [],
   "source": [
    "#=========# Logistic Regression #========#\n",
    "logreg_classifier = LogisticRegression(max_iter=1000)\n",
    "logreg_classifier.fit(X_train, y_train)\n",
    "y_pred_logreg = logreg_classifier.predict(X_test)\n",
    "accuracy_logreg = accuracy_score(y_test, y_pred_logreg)\n",
    "print(f\"Logistic Regression's Accuracy: {accuracy_logreg:.4f}\")\n",
    "#========================================#"
   ]
  }
 ],
 "metadata": {
  "kernelspec": {
   "display_name": "Python 3",
   "language": "python",
   "name": "python3"
  },
  "language_info": {
   "codemirror_mode": {
    "name": "ipython",
    "version": 3
   },
   "file_extension": ".py",
   "mimetype": "text/x-python",
   "name": "python",
   "nbconvert_exporter": "python",
   "pygments_lexer": "ipython3",
   "version": "3.11.4"
  }
 },
 "nbformat": 4,
 "nbformat_minor": 5
}
